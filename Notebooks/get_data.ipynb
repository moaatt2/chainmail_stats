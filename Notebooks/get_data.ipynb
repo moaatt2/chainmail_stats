{
 "cells": [
  {
   "attachments": {},
   "cell_type": "markdown",
   "metadata": {},
   "source": [
    "# Get Data"
   ]
  },
  {
   "attachments": {},
   "cell_type": "markdown",
   "metadata": {},
   "source": [
    "## Imports and Setup\n"
   ]
  },
  {
   "cell_type": "code",
   "execution_count": 1,
   "metadata": {},
   "outputs": [],
   "source": [
    "# Imports\n",
    "import requests\n",
    "from bs4 import BeautifulSoup\n",
    "from lxml import etree\n",
    "from time import sleep\n",
    "import cssselect\n",
    "import re"
   ]
  },
  {
   "cell_type": "code",
   "execution_count": 2,
   "metadata": {},
   "outputs": [],
   "source": [
    "# Set constants for use later\n",
    "BASE_URL = \"https://www.mailleartisans.org/weaves/weavedisplay.php?key=\"\n",
    "FIRST_ARTICLE = 1\n",
    "LAST_ARTICLE = 1487"
   ]
  },
  {
   "cell_type": "code",
   "execution_count": 3,
   "metadata": {},
   "outputs": [],
   "source": [
    "\n",
    "# Create function to get multiple articles\n",
    "def get_articles(articles) -> dict:\n",
    "    out = dict()\n",
    "    for i in articles:\n",
    "        print(f\"Getting article {i}\")\n",
    "        response = requests.get(f\"{BASE_URL}{i}\")\n",
    "        if response.status_code == 200:\n",
    "            out[i] = response.content\n",
    "            print(f\"Got article {i} sleeping for 10 seconds.\")\n",
    "        else:\n",
    "            out[i] = 'failure'\n",
    "            print(f\"Could not get article {i} sleeping for 10 seconds.\")\n",
    "        sleep(10)\n",
    "    \n",
    "    return out\n"
   ]
  },
  {
   "attachments": {},
   "cell_type": "markdown",
   "metadata": {},
   "source": [
    "## Test Getting Data From Articles"
   ]
  },
  {
   "attachments": {},
   "cell_type": "markdown",
   "metadata": {},
   "source": [
    "### Define Function To Get Data From Articles"
   ]
  },
  {
   "cell_type": "code",
   "execution_count": 47,
   "metadata": {},
   "outputs": [],
   "source": [
    "\n",
    "def get_articles_and_tags(tree) -> dict:\n",
    "    out = dict()\n",
    "\n",
    "    # Get Article and Tag information\n",
    "    path = '/html/body/div[5]/div/table/tr/td[2]/div[2]//text()'\n",
    "    lines = [i for i in tree.xpath(path) if i not in ('[', ']')]\n",
    "\n",
    "    ## Get indicies to split the tag and article data\n",
    "    tags_start = lines.index('Weave Tags (Click to Search Weaves) ')\n",
    "    article_start = lines.index('Related Articles ')\n",
    "    gallery_start = lines.index('Random Gallery Items Tagged as using this Weave ')\n",
    "\n",
    "\n",
    "    # Get Articles\n",
    "\n",
    "    ## Get only article lines\n",
    "    article_lines = lines[article_start+1:gallery_start]\n",
    "\n",
    "    ## Get Article headings\n",
    "    path = '/html/body/div[5]/div/table/tr/td[2]/div[2]/b//text()'\n",
    "    headings = tree.xpath(path)\n",
    "\n",
    "    if len(headings) > 0:\n",
    "        ## Parse list and headings into dict of lists of articles by heading\n",
    "\n",
    "        ### Set starting values\n",
    "        tmp = list()\n",
    "        level = list()\n",
    "        start = True\n",
    "\n",
    "        ### Split lines into on list per heading\n",
    "        for i in article_lines:\n",
    "            if (i in headings) and start:   \n",
    "                level = list()\n",
    "                level.append(i)\n",
    "                start = False\n",
    "            elif (i in headings) and not start:\n",
    "                tmp.append(level)\n",
    "                level = list()\n",
    "                level.append(i)\n",
    "            else:\n",
    "                level.append(i)\n",
    "        tmp.append(level)\n",
    "\n",
    "        ## Clean up list into list of article titles\n",
    "        lol = [''.join(i).split('\\n') for i in tmp]\n",
    "\n",
    "        ### Turn list into dictionary\n",
    "        tmp = dict()\n",
    "        for i in lol:\n",
    "            tmp[i[0]] = [j for j in i[1:] if j != '']\n",
    "\n",
    "        out['Articles'] = tmp\n",
    "    else:\n",
    "        out['Articles'] = None\n",
    "\n",
    "    # Get Tags\n",
    "    \n",
    "    ## Get tag lines\n",
    "    tag_lines = lines[tags_start+1:article_start]\n",
    "    \n",
    "    ## Remove unecessary info and clean tag lines\n",
    "    out['Tags'] = [i.strip() for i in tag_lines if i not in ('\\n', ', ')] \n",
    "\n",
    "    return out\n",
    "\n",
    "\n",
    "\n",
    "def article_parser(article: bytes, art_number: int) -> dict:\n",
    "    # Create output dict\n",
    "    out = dict()\n",
    "    out['Article Number'] = art_number\n",
    "\n",
    "    # Convert article into an etree\n",
    "    soup = BeautifulSoup(article, 'html.parser')\n",
    "    dom = etree.HTML(str(soup.html))\n",
    "\n",
    "\n",
    "    # Parse etree to find values of interest\n",
    "\n",
    "    ## Determine if an article exists\n",
    "    if len(dom.xpath('/html/body/div[5]/div/h2')) > 0:\n",
    "        out = {\n",
    "            'Weave Title':   None,\n",
    "            'Max AR':        None,\n",
    "            'Ideal AR':      None,\n",
    "            'Min AR':        None,\n",
    "            'Date Uploaded': None,\n",
    "            'Last Edited':   None,\n",
    "            'Articles':      None,\n",
    "            'Tags':          None,\n",
    "        }\n",
    "        return out\n",
    "    else:\n",
    "        ## Weave Title\n",
    "        path = '/html/body/div[5]/div/table/tr/td[2]/div[2]/font'\n",
    "        title = dom.xpath(path)[0].text\n",
    "        out['Weave Title'] = title\n",
    "\n",
    "        ## Get AR Values\n",
    "\n",
    "        ### Get AR val string from page\n",
    "        path = '/html/body/div[5]/div/table/tr/td[1]/table/tr[2]/td/div[not(@class)][2]//text()'\n",
    "        ar_val_string = ' '.join([i for i in dom.xpath(path) if i != '\\n'][:-1])\n",
    "\n",
    "        ### Extract Aspect Ratio Values from the AR val string\n",
    "        max_ar = re.search('%s(.*)%s' % ('Max. AR :', ' Ideal AR :'), ar_val_string).group(1).replace(' ', '')\n",
    "        ideal_ar = re.search('%s(.*)%s' % (' Ideal AR :', 'Min. AR :'), ar_val_string).group(1).replace(' ', '')\n",
    "        min_ar = re.search('%s(.*)' % ('Min. AR :'), ar_val_string).group(1).replace(' ', '')\n",
    "\n",
    "        ### Add AR values to output dictionary\n",
    "        out.update({'Max AR': max_ar, 'Ideal AR': ideal_ar, 'Min AR': min_ar})\n",
    "\n",
    "\n",
    "        ## Get Dates\n",
    "\n",
    "        ### Get date string\n",
    "        path = '/html/body/div[5]/div/table/tr/td[1]/table/tr[2]/td/div[not(@class)][3]//text()'\n",
    "        results = dom.xpath(path)\n",
    "        date_string = ''.join(results).replace('\\n', '')\n",
    "\n",
    "        ### Extract Dates from date string\n",
    "        date_uploaded = re.search('%s(.*)%s' % ('Date Uploaded', 'Last Edited'), date_string).group(1).strip()\n",
    "        last_edited = re.search('%s(.*)' % ('Last Edited'), date_string).group(1).strip()\n",
    "\n",
    "        ### Add AR values to output dictionary\n",
    "        out.update({'Date Uploaded': date_uploaded, 'Last Edited': last_edited})\n",
    "\n",
    "\n",
    "        ## Get Article and Tag information\n",
    "        out.update(get_articles_and_tags(dom))\n",
    "\n",
    "        return out\n"
   ]
  },
  {
   "attachments": {},
   "cell_type": "markdown",
   "metadata": {},
   "source": [
    "\n",
    "### Get Test Articles\n"
   ]
  },
  {
   "cell_type": "code",
   "execution_count": 5,
   "metadata": {},
   "outputs": [
    {
     "name": "stdout",
     "output_type": "stream",
     "text": [
      "Getting article 1\n",
      "Got article 1 sleeping for 10 seconds.\n",
      "Getting article 2\n",
      "Got article 2 sleeping for 10 seconds.\n",
      "Getting article 6\n",
      "Got article 6 sleeping for 10 seconds.\n",
      "Getting article 11\n",
      "Got article 11 sleeping for 10 seconds.\n",
      "Getting article 189\n",
      "Got article 189 sleeping for 10 seconds.\n",
      "Getting article 1086\n",
      "Got article 1086 sleeping for 10 seconds.\n",
      "Getting article 1173\n",
      "Got article 1173 sleeping for 10 seconds.\n",
      "Getting article 1488\n",
      "Got article 1488 sleeping for 10 seconds.\n"
     ]
    }
   ],
   "source": [
    "# Get some articles and store them to avoid repeated calls to the website\n",
    "\n",
    "to_get = [\n",
    "    1,    # single AR no Min no Max\n",
    "    2,    # multi AR no Min no Max\n",
    "    6,    # single AR no Max\n",
    "    11,   # multi AR no Max\n",
    "    189,  # No ARs given\n",
    "    1086, # Single ar all ARs given\n",
    "    1173, # multi AR all values given\n",
    "    1488, # Error page with No AR values\n",
    "]\n",
    "\n",
    "arts = get_articles(to_get)\n",
    "\n"
   ]
  },
  {
   "attachments": {},
   "cell_type": "markdown",
   "metadata": {},
   "source": [
    "### Test Single Article"
   ]
  },
  {
   "cell_type": "code",
   "execution_count": 48,
   "metadata": {},
   "outputs": [
    {
     "data": {
      "text/plain": [
       "{'Article Number': 1086,\n",
       " 'Weave Title': 'Cloudy Day',\n",
       " 'Max AR': '4.5',\n",
       " 'Ideal AR': '3.9',\n",
       " 'Min AR': '3.6',\n",
       " 'Date Uploaded': 'January 14, 2011, 6:04 pm',\n",
       " 'Last Edited': 'January 10, 2016, 8:21 pm',\n",
       " 'Articles': {'Weave Tutorials': ['Cloudy Day Tutorial']},\n",
       " 'Tags': ['European', 'Persian', 'Sheet', 'Variant', 'Rhino', 'Mage']}"
      ]
     },
     "execution_count": 48,
     "metadata": {},
     "output_type": "execute_result"
    }
   ],
   "source": [
    "\n",
    "article_parser(arts[1086], 1086)\n"
   ]
  },
  {
   "attachments": {},
   "cell_type": "markdown",
   "metadata": {},
   "source": [
    "### Xpath Testing"
   ]
  },
  {
   "cell_type": "code",
   "execution_count": 6,
   "metadata": {},
   "outputs": [
    {
     "name": "stdout",
     "output_type": "stream",
     "text": [
      "Current path results: [<Element div at 0x228ab544580>]\n",
      "Selected Element at path results<Element div at 0x228ab544580>\n",
      "Children of selected element at path results:\n",
      "\t<Element font at 0x228ab544180>\n",
      "\t<Element br at 0x228aae309c0>\n",
      "\t<Element br at 0x228ab544740>\n",
      "\t<Element u at 0x228ab544f00>\n",
      "\t<Element br at 0x228ab544b80>\n",
      "\t<Element a at 0x228ab544940>\n",
      "\t<Element a at 0x228ab544680>\n",
      "\t<Element br at 0x228ab544dc0>\n",
      "\t<Element a at 0x228ab547500>\n",
      "\t<Element br at 0x228ab544f40>\n",
      "\t<Element br at 0x228ab547dc0>\n",
      "\t<Element a at 0x228ab547480>\n",
      "\t<Element br at 0x228ab547200>\n",
      "\t<Element br at 0x228ab547d00>\n",
      "\t<Element br at 0x228ab547c00>\n",
      "\t<Element br at 0x228ab5477c0>\n",
      "\t<Element a at 0x228ab547a40>\n",
      "\t<Element br at 0x228aae309c0>\n",
      "\t<Element br at 0x228ab547280>\n",
      "\t<Element h3 at 0x228ab5473c0>\n",
      "\t<Element a at 0x228ab547340>\n",
      "\t<Element a at 0x228ab547b80>\n",
      "\t<Element a at 0x228ab547580>\n",
      "\t<Element a at 0x228ab5474c0>\n",
      "\t<Element a at 0x228ab547c40>\n",
      "\t<Element a at 0x228ab547140>\n",
      "\t<Element br at 0x228aae309c0>\n",
      "\t<Element br at 0x228ab547240>\n",
      "\t<Element h3 at 0x228ab547900>\n",
      "\t<Element b at 0x228ab5470c0>\n",
      "\t<Element br at 0x228ab547c80>\n",
      "\t<Element a at 0x228ab5472c0>\n",
      "\t<Element br at 0x228ab5478c0>\n",
      "\t<Element br at 0x228ab5475c0>\n",
      "\t<Element h3 at 0x228ab547e00>\n",
      "\t<Element br at 0x228ab547f00>\n",
      "\t<Element a at 0x228ab5476c0>\n"
     ]
    }
   ],
   "source": [
    "# Goal: Get data on articles\n",
    "\n",
    "path = '/html/body/div[5]/div/table/tr/td[2]/div[2]'\n",
    "\n",
    "num = 0\n",
    "results = dom.xpath(path)\n",
    "result = results[num]\n",
    "\n",
    "print(f\"Current path results: {dom.xpath(path)}\")\n",
    "\n",
    "print(f\"Selected Element at path results{result}\")\n",
    "\n",
    "print(\"Children of selected element at path results:\")\n",
    "\n",
    "for i in result:\n",
    "    print('\\t',i, sep='')\n"
   ]
  },
  {
   "attachments": {},
   "cell_type": "markdown",
   "metadata": {},
   "source": [
    "### Test All Articles"
   ]
  },
  {
   "cell_type": "code",
   "execution_count": 50,
   "metadata": {},
   "outputs": [
    {
     "name": "stdout",
     "output_type": "stream",
     "text": [
      "Article: 1\n",
      "{'Article Number': 1, 'Weave Title': 'Trizantine', 'Max AR': '', 'Ideal AR': '5.2', 'Min AR': '', 'Date Uploaded': 'May 3, 2008, 6:36 pm', 'Last Edited': 'June 22, 2017, 11:45 am', 'Articles': {'Weave Tutorials': ['Trizantine (CGI)']}, 'Tags': ['European', 'Chain', 'Progression', 'Alpha']}\n",
      "\n",
      "Article: 2\n",
      "{'Article Number': 2, 'Weave Title': 'Hizashi 1', 'Max AR': '', 'Ideal AR': '8.0|3.0', 'Min AR': '', 'Date Uploaded': 'December 28, 2008, 7:41 pm', 'Last Edited': 'August 2, 2011, 7:13 pm', 'Articles': {'Weave Tutorials': ['Hizashi Subfamily']}, 'Tags': ['Japanese', 'Sheet', 'Radial', 'Modification']}\n",
      "\n",
      "Article: 6\n",
      "{'Article Number': 6, 'Weave Title': 'European 4 in 1', 'Max AR': '', 'Ideal AR': '4.0', 'Min AR': '2.83', 'Date Uploaded': 'April 6, 2010, 9:19 am', 'Last Edited': 'December 14, 2015, 10:29 pm', 'Articles': {'Weave Tutorials': ['European 4 in 1 (CGI; chain)', 'European 4 in 1 (CGI; One at a Time)', 'European 4 in 1 (CGI; ribbon)', 'European 4 in 1 (Ribbon)', 'European 4 in 1: 45 Degree Seam', 'European 4 in 1: Armpit Seam', 'European 4 in 1: Expanding Circle (Core Method)', 'European 4 in 1: Expanding Circle (Fill in Core)', 'European 4 in 1 on the Bias', 'European 4 in 1; My Easier Method for Expanding Circles', 'European 4 in 1 - How I Do It', 'Flowers 4 in 1 (CGI)', '4 Leaf Clover (CGI)', 'Weaves with Neoprene Rings', 'European 4 in 1: Flat Expanding Circle', 'Euro 4-1 Contraction (Ex-CGMaille Tutorial)', 'European 4-1 Expansion (Ex-CGMaille Tutorial)', 'European 4 in 1 (from CGMaille) (Ex-CGMaille Tutorial)', 'E4-1 Seams; Top to Bottom and Bottom to Top (Ex-CGMaille Tutorial)', 'European 4-1 with Half Persian 3-1 Trim (Ex-CGMaille Tutorial)', 'European 4 in 1 Seams: 15; 30; 45; and 60 Degrees'], 'Other Related Articles': ['Cabochon Wrapping Using European 4 in 1 and 6 in 1 [Jewelry,Wraps]', 'European 4 in 1 Pouch [Patterns,Accessories]', 'How To Make A Belt Using European 4 in 1 [Patterns,European,Accessories]', 'European 4 in 1/6 in 1 Bikini/Bra Top [Patterns,Clothing]', 'European 4 in 1 Bra: Alternate [Patterns,Clothing]', 'Overlapping Slits in European 4 in 1 [Armour,European,Hauberk]', 'European 4 in 1 Inlays: Impact of Weave Direction [Inlays,European]', 'Finger Ring Construction (European 4 in 1) [European,Rings]', 'Is Speedweaving European 4 in 1 a Myth? [Construction]', 'Inverting Rows on 90 & 45 Degree Angles (Both Directions) [Armour,European,Hauberk]', 'Basic European 4 in 1 Vest Pattern [Patterns,European,Clothing]', 'The 45 Degree Seam Myth [European,Theory]', 'Graduation / Graduated Maille [Ring Sizes,Wire Sizes]', 'Scale Maille (Grafted Onto Maille) [Armour,NSR]', 'Creating a Coif [Armour,Coifs,Clothing]', 'European Weave Coverings for Marbles [Miscellaneous]', 'Constructing a 45 degree Seam Shirt [Armour,Hauberk]', 'Making My First Bikini Set [Patterns,Clothing]', 'Adding Half Persian Trim/ European-Persian Ratios [Patterns,European,Persian,Weave Theory,Theory]']}, 'Tags': ['European', 'Sheet', 'Alpha', 'Beginner']}\n",
      "\n",
      "Article: 11\n",
      "{'Article Number': 11, 'Weave Title': 'Dragonscale', 'Max AR': '', 'Ideal AR': '3.9|6.1', 'Min AR': '3.7|5.7', 'Date Uploaded': 'August 6, 2008, 4:14 am', 'Last Edited': 'July 16, 2019, 7:53 pm', 'Articles': {'Weave Tutorials': ['Dragonscale (CGI; Preclose Large Rings)', 'Dragonscale (CGI; Preclose Small Rings)', 'Dragonscale', 'Dragonscale Expansion (Horizontal Direction)', 'Dragonscale Expansion (Vertical Direction)', 'Joining Dragonscale and European 6 in 1', 'Dragonscale (from CGMaille) (Ex-CGMaille Tutorial)', 'Joining Dragonscale (Ex-CGMaille Tutorial)'], 'Other Related Articles': ['Dragonscale; 45 Degree Corner [Armour,European,Hauberk,Connections]', 'Advanced Maille Basketry [Sculpture]']}, 'Tags': ['European', 'Sheet', 'Scaled', 'Alpha', 'Helm']}\n",
      "\n",
      "Article: 189\n",
      "{'Article Number': 189, 'Weave Title': 'Captive Persian Round Sheet', 'Max AR': '', 'Ideal AR': '', 'Min AR': '', 'Date Uploaded': 'November 10, 2006, 4:37 pm', 'Last Edited': 'July 25, 2013, 1:05 am', 'Articles': None, 'Tags': ['Persian', 'Sheet', 'Captive', 'Modification']}\n",
      "\n",
      "Article: 1086\n",
      "{'Article Number': 1086, 'Weave Title': 'Cloudy Day', 'Max AR': '4.5', 'Ideal AR': '3.9', 'Min AR': '3.6', 'Date Uploaded': 'January 14, 2011, 6:04 pm', 'Last Edited': 'January 10, 2016, 8:21 pm', 'Articles': {'Weave Tutorials': ['Cloudy Day Tutorial']}, 'Tags': ['European', 'Persian', 'Sheet', 'Variant', 'Rhino', 'Mage']}\n",
      "\n",
      "Article: 1173\n",
      "{'Article Number': 1173, 'Weave Title': 'Onering', 'Max AR': '3.0|6.9', 'Ideal AR': '2.9|5.0', 'Min AR': '2.7|3.0', 'Date Uploaded': 'July 5, 2012, 8:15 pm', 'Last Edited': 'December 7, 2014, 6:23 pm', 'Articles': {'Weave Tutorials': ['WHATIF - Variants of Jens Pind Linkage (JPL)']}, 'Tags': ['Persian', 'Chain', 'Spiral', 'Modification', 'Mobius']}\n",
      "\n",
      "Article: 1488\n",
      "{'Weave Title': None, 'Max AR': None, 'Ideal AR': None, 'Min AR': None, 'Date Uploaded': None, 'Last Edited': None, 'Articles': None, 'Tags': None}\n",
      "\n"
     ]
    }
   ],
   "source": [
    "\n",
    "for key, article in arts.items():\n",
    "    print(f'Article: {key}')\n",
    "    print(article_parser(article, key))\n",
    "    print()\n"
   ]
  }
 ],
 "metadata": {
  "kernelspec": {
   "display_name": "Python 3",
   "language": "python",
   "name": "python3"
  },
  "language_info": {
   "codemirror_mode": {
    "name": "ipython",
    "version": 3
   },
   "file_extension": ".py",
   "mimetype": "text/x-python",
   "name": "python",
   "nbconvert_exporter": "python",
   "pygments_lexer": "ipython3",
   "version": "3.9.13"
  },
  "orig_nbformat": 4
 },
 "nbformat": 4,
 "nbformat_minor": 2
}
