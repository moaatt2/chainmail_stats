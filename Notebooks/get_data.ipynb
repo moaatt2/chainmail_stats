{
 "cells": [
  {
   "attachments": {},
   "cell_type": "markdown",
   "metadata": {},
   "source": [
    "# Get Data"
   ]
  },
  {
   "attachments": {},
   "cell_type": "markdown",
   "metadata": {},
   "source": [
    "## Imports and Setup\n"
   ]
  },
  {
   "cell_type": "code",
   "execution_count": 1,
   "metadata": {},
   "outputs": [],
   "source": [
    "# Imports\n",
    "import requests\n",
    "from bs4 import BeautifulSoup\n",
    "from lxml import etree\n",
    "from time import sleep"
   ]
  },
  {
   "cell_type": "code",
   "execution_count": 2,
   "metadata": {},
   "outputs": [],
   "source": [
    "# Set constants for use later\n",
    "BASE_URL = \"https://www.mailleartisans.org/weaves/weavedisplay.php?key=\"\n",
    "FIRST_ARTICLE = 1\n",
    "LAST_ARTICLE = 1487"
   ]
  },
  {
   "cell_type": "code",
   "execution_count": 3,
   "metadata": {},
   "outputs": [],
   "source": [
    "\n",
    "# Create function to get multiple articles\n",
    "def get_articles(articles) -> dict:\n",
    "    out = dict()\n",
    "    for i in articles:\n",
    "        print(f\"Getting article {i}\")\n",
    "        response = requests.get(f\"{BASE_URL}{i}\")\n",
    "        if response.status_code == 200:\n",
    "            out[i] = response.content\n",
    "            print(f\"Got article {i} sleeping for 10 seconds.\")\n",
    "        else:\n",
    "            out[i] = 'failure'\n",
    "            print(f\"Could not get article {i} sleeping for 10 seconds.\")\n",
    "        sleep(10)\n",
    "    \n",
    "    return out\n"
   ]
  },
  {
   "attachments": {},
   "cell_type": "markdown",
   "metadata": {},
   "source": [
    "## Test Getting Data From Articles"
   ]
  },
  {
   "attachments": {},
   "cell_type": "markdown",
   "metadata": {},
   "source": [
    "\n",
    "### Get Test Articles\n"
   ]
  },
  {
   "cell_type": "code",
   "execution_count": 7,
   "metadata": {},
   "outputs": [
    {
     "name": "stdout",
     "output_type": "stream",
     "text": [
      "Getting article 1\n",
      "Got article 1 sleeping for 10 seconds.\n",
      "Getting article 2\n",
      "Got article 2 sleeping for 10 seconds.\n",
      "Getting article 6\n",
      "Got article 6 sleeping for 10 seconds.\n",
      "Getting article 11\n",
      "Got article 11 sleeping for 10 seconds.\n",
      "Getting article 189\n",
      "Got article 189 sleeping for 10 seconds.\n",
      "Getting article 1086\n",
      "Got article 1086 sleeping for 10 seconds.\n",
      "Getting article 1173\n",
      "Got article 1173 sleeping for 10 seconds.\n"
     ]
    }
   ],
   "source": [
    "# Get some articles and store them to avoid repeated calls to the website\n",
    "\n",
    "to_get = [\n",
    "    1,    # single AR no Min no Max\n",
    "    2,    # multi AR no Min no Max\n",
    "    6,    # single AR no Max\n",
    "    11,   # multi AR no Max\n",
    "    189,  # No ARs given\n",
    "    1086, # Single ar all ARs given\n",
    "    1173, # multi AR all values given\n",
    "]\n",
    "\n",
    "arts = get_articles(to_get)\n",
    "\n"
   ]
  },
  {
   "attachments": {},
   "cell_type": "markdown",
   "metadata": {},
   "source": [
    "### Test Single Article"
   ]
  },
  {
   "cell_type": "code",
   "execution_count": 30,
   "metadata": {},
   "outputs": [
    {
     "name": "stdout",
     "output_type": "stream",
     "text": [
      "Weave Title: Trizantine\n",
      "Ideal AR: 5.2\n"
     ]
    }
   ],
   "source": [
    "# Select Article\n",
    "article = arts[1]\n",
    "\n",
    "# Convert first article into an etree\n",
    "soup = BeautifulSoup(article, 'html.parser')\n",
    "dom = etree.HTML(str(soup.html))\n",
    "\n",
    "# Parse etree to find values of interest\n",
    "\n",
    "## Weave Title\n",
    "path = '/html/body/div[5]/div/table/tr/td[2]/div[2]/font'\n",
    "title = dom.xpath(path)[0].text\n",
    "print(f'Weave Title: {title}')\n",
    "\n",
    "## Ideal AR\n",
    "path = '/html/body/div[5]/div/table/tr/td[1]/table/tr[2]/td/div[3]/span'\n",
    "ideal_ar = dom.xpath(path)[0].text\n",
    "print(f'Ideal AR: {ideal_ar}')"
   ]
  },
  {
   "attachments": {},
   "cell_type": "markdown",
   "metadata": {},
   "source": [
    "### Test Path"
   ]
  },
  {
   "cell_type": "code",
   "execution_count": 29,
   "metadata": {},
   "outputs": [
    {
     "name": "stdout",
     "output_type": "stream",
     "text": [
      "Current path results: [<Element html at 0x239140ca900>]\n",
      "Selected Element at path results<Element html at 0x239140ca900>\n",
      "Children of selected element at path results:\n",
      "\t<Element head at 0x2391492b980>\n",
      "\t<Element body at 0x23914944c40>\n"
     ]
    }
   ],
   "source": [
    "\n",
    "path = '/html'\n",
    "num = 0\n",
    "\n",
    "print(f\"Current path results: {dom.xpath(path)}\")\n",
    "\n",
    "print(f\"Selected Element at path results{dom.xpath(path)[num]}\")\n",
    "\n",
    "print(\"Children of selected element at path results:\")\n",
    "\n",
    "for i in dom.xpath(path)[num]:\n",
    "    print('\\t',i, sep='')\n"
   ]
  },
  {
   "attachments": {},
   "cell_type": "markdown",
   "metadata": {},
   "source": [
    "### Test All Articles"
   ]
  },
  {
   "cell_type": "code",
   "execution_count": 17,
   "metadata": {},
   "outputs": [
    {
     "name": "stdout",
     "output_type": "stream",
     "text": [
      "1\n",
      "Weave Title: Trizantine\n",
      "Ideal AR: 5.2\n",
      "2\n",
      "Weave Title: Hizashi 1\n"
     ]
    },
    {
     "ename": "IndexError",
     "evalue": "list index out of range",
     "output_type": "error",
     "traceback": [
      "\u001b[1;31m---------------------------------------------------------------------------\u001b[0m",
      "\u001b[1;31mIndexError\u001b[0m                                Traceback (most recent call last)",
      "Cell \u001b[1;32mIn[17], line 18\u001b[0m\n\u001b[0;32m     16\u001b[0m \u001b[39m## Ideal AR\u001b[39;00m\n\u001b[0;32m     17\u001b[0m path \u001b[39m=\u001b[39m \u001b[39m'\u001b[39m\u001b[39m/html/body/div[5]/div/table/tr/td[1]/table/tr[2]/td/div[3]/span\u001b[39m\u001b[39m'\u001b[39m\n\u001b[1;32m---> 18\u001b[0m ideal_ar \u001b[39m=\u001b[39m dom\u001b[39m.\u001b[39;49mxpath(path)[\u001b[39m0\u001b[39;49m]\u001b[39m.\u001b[39mtext\n\u001b[0;32m     19\u001b[0m \u001b[39mprint\u001b[39m(\u001b[39mf\u001b[39m\u001b[39m'\u001b[39m\u001b[39mIdeal AR: \u001b[39m\u001b[39m{\u001b[39;00mideal_ar\u001b[39m}\u001b[39;00m\u001b[39m'\u001b[39m)\n",
      "\u001b[1;31mIndexError\u001b[0m: list index out of range"
     ]
    }
   ],
   "source": [
    "\n",
    "# Iterate through all articles\n",
    "for key, value in arts.items():\n",
    "    print(key)\n",
    "\n",
    "    # Convert article to etree\n",
    "    soup = BeautifulSoup(value, 'html.parser')\n",
    "    dom = etree.HTML(str(soup.html))\n",
    "\n",
    "    # Parse etree to find values of interest\n",
    "\n",
    "    ## Weave Title\n",
    "    path = '/html/body/div[5]/div/table/tr/td[2]/div[2]/font'\n",
    "    title = dom.xpath(path)[0].text\n",
    "    print(f'Weave Title: {title}')\n",
    "\n",
    "    ## Ideal AR\n",
    "    path = '/html/body/div[5]/div/table/tr/td[1]/table/tr[2]/td/div[3]/span'\n",
    "    ideal_ar = dom.xpath(path)[0].text\n",
    "    print(f'Ideal AR: {ideal_ar}')\n"
   ]
  }
 ],
 "metadata": {
  "kernelspec": {
   "display_name": "Python 3",
   "language": "python",
   "name": "python3"
  },
  "language_info": {
   "codemirror_mode": {
    "name": "ipython",
    "version": 3
   },
   "file_extension": ".py",
   "mimetype": "text/x-python",
   "name": "python",
   "nbconvert_exporter": "python",
   "pygments_lexer": "ipython3",
   "version": "3.10.10"
  },
  "orig_nbformat": 4
 },
 "nbformat": 4,
 "nbformat_minor": 2
}
