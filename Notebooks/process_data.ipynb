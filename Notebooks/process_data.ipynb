{
 "cells": [
  {
   "attachments": {},
   "cell_type": "markdown",
   "metadata": {},
   "source": [
    "# Process Data"
   ]
  },
  {
   "attachments": {},
   "cell_type": "markdown",
   "metadata": {},
   "source": [
    "## Imports and Setup"
   ]
  },
  {
   "cell_type": "code",
   "execution_count": 1,
   "metadata": {},
   "outputs": [],
   "source": [
    "\n",
    "# Import necessary modules\n",
    "import pandas as pd\n",
    "import json\n"
   ]
  },
  {
   "cell_type": "code",
   "execution_count": 2,
   "metadata": {},
   "outputs": [],
   "source": [
    "\n",
    "# Load data\n",
    "with open('../data/chainmail_data.json', mode='r') as json_file:\n",
    "    data = json.load(json_file)\n"
   ]
  },
  {
   "cell_type": "code",
   "execution_count": 3,
   "metadata": {},
   "outputs": [
    {
     "data": {
      "text/html": [
       "<div>\n",
       "<style scoped>\n",
       "    .dataframe tbody tr th:only-of-type {\n",
       "        vertical-align: middle;\n",
       "    }\n",
       "\n",
       "    .dataframe tbody tr th {\n",
       "        vertical-align: top;\n",
       "    }\n",
       "\n",
       "    .dataframe thead th {\n",
       "        text-align: right;\n",
       "    }\n",
       "</style>\n",
       "<table border=\"1\" class=\"dataframe\">\n",
       "  <thead>\n",
       "    <tr style=\"text-align: right;\">\n",
       "      <th></th>\n",
       "      <th>Articles</th>\n",
       "      <th>Date Uploaded</th>\n",
       "      <th>Ideal AR</th>\n",
       "      <th>Last Edited</th>\n",
       "      <th>Max AR</th>\n",
       "      <th>Min AR</th>\n",
       "      <th>Tags</th>\n",
       "      <th>Weave Title</th>\n",
       "    </tr>\n",
       "  </thead>\n",
       "  <tbody>\n",
       "    <tr>\n",
       "      <th>1</th>\n",
       "      <td>{'Weave Tutorials': ['Trizantine (CGI)']}</td>\n",
       "      <td>May 3, 2008, 6:36 pm</td>\n",
       "      <td>5.2</td>\n",
       "      <td>June 22, 2017, 11:45 am</td>\n",
       "      <td></td>\n",
       "      <td></td>\n",
       "      <td>[European, Chain, Progression, Alpha]</td>\n",
       "      <td>Trizantine</td>\n",
       "    </tr>\n",
       "    <tr>\n",
       "      <th>2</th>\n",
       "      <td>{'Weave Tutorials': ['Hizashi Subfamily']}</td>\n",
       "      <td>December 28, 2008, 7:41 pm</td>\n",
       "      <td>8.0|3.0</td>\n",
       "      <td>August 2, 2011, 7:13 pm</td>\n",
       "      <td></td>\n",
       "      <td></td>\n",
       "      <td>[Japanese, Sheet, Radial, Modification]</td>\n",
       "      <td>Hizashi 1</td>\n",
       "    </tr>\n",
       "    <tr>\n",
       "      <th>3</th>\n",
       "      <td>{'Weave Tutorials': ['Hizashi Subfamily']}</td>\n",
       "      <td>December 28, 2008, 7:42 pm</td>\n",
       "      <td>6.0|3.5</td>\n",
       "      <td>August 2, 2011, 7:13 pm</td>\n",
       "      <td></td>\n",
       "      <td></td>\n",
       "      <td>[Japanese, Sheet, Radial, Modification]</td>\n",
       "      <td>Hizashi 3</td>\n",
       "    </tr>\n",
       "    <tr>\n",
       "      <th>4</th>\n",
       "      <td>None</td>\n",
       "      <td>November 8, 2002, 2:37 am</td>\n",
       "      <td>7.3|3.0</td>\n",
       "      <td>August 2, 2011, 7:37 pm</td>\n",
       "      <td></td>\n",
       "      <td></td>\n",
       "      <td>[Japanese, Sheet, Progression, Alpha]</td>\n",
       "      <td>Japanese 5 in 1 (3.3.4.3.4)</td>\n",
       "    </tr>\n",
       "    <tr>\n",
       "      <th>5</th>\n",
       "      <td>None</td>\n",
       "      <td>April 15, 2004, 5:29 am</td>\n",
       "      <td>5.5|3.3</td>\n",
       "      <td>August 2, 2011, 7:18 pm</td>\n",
       "      <td></td>\n",
       "      <td></td>\n",
       "      <td>[Japanese, Sheet, Orbital, Modification]</td>\n",
       "      <td>Interlock</td>\n",
       "    </tr>\n",
       "  </tbody>\n",
       "</table>\n",
       "</div>"
      ],
      "text/plain": [
       "                                     Articles               Date Uploaded   \n",
       "1   {'Weave Tutorials': ['Trizantine (CGI)']}        May 3, 2008, 6:36 pm  \\\n",
       "2  {'Weave Tutorials': ['Hizashi Subfamily']}  December 28, 2008, 7:41 pm   \n",
       "3  {'Weave Tutorials': ['Hizashi Subfamily']}  December 28, 2008, 7:42 pm   \n",
       "4                                        None   November 8, 2002, 2:37 am   \n",
       "5                                        None     April 15, 2004, 5:29 am   \n",
       "\n",
       "  Ideal AR              Last Edited Max AR Min AR   \n",
       "1      5.2  June 22, 2017, 11:45 am                \\\n",
       "2  8.0|3.0  August 2, 2011, 7:13 pm                 \n",
       "3  6.0|3.5  August 2, 2011, 7:13 pm                 \n",
       "4  7.3|3.0  August 2, 2011, 7:37 pm                 \n",
       "5  5.5|3.3  August 2, 2011, 7:18 pm                 \n",
       "\n",
       "                                       Tags                  Weave Title  \n",
       "1     [European, Chain, Progression, Alpha]                   Trizantine  \n",
       "2   [Japanese, Sheet, Radial, Modification]                    Hizashi 1  \n",
       "3   [Japanese, Sheet, Radial, Modification]                    Hizashi 3  \n",
       "4     [Japanese, Sheet, Progression, Alpha]  Japanese 5 in 1 (3.3.4.3.4)  \n",
       "5  [Japanese, Sheet, Orbital, Modification]                    Interlock  "
      ]
     },
     "execution_count": 3,
     "metadata": {},
     "output_type": "execute_result"
    }
   ],
   "source": [
    "\n",
    "# Convert data into a pandas DataFrame and show sample values\n",
    "df = pd.DataFrame(data).transpose()\n",
    "df.head()\n"
   ]
  },
  {
   "attachments": {},
   "cell_type": "markdown",
   "metadata": {},
   "source": [
    "## Clean Up Data"
   ]
  },
  {
   "cell_type": "markdown",
   "metadata": {},
   "source": [
    "### Remove Invalid Values"
   ]
  },
  {
   "cell_type": "code",
   "execution_count": 4,
   "metadata": {},
   "outputs": [],
   "source": [
    "\n",
    "# Remove null-articles\n",
    "null_records = df['Weave Title'].isnull()\n",
    "df = df[~null_records]\n",
    "\n",
    "# Replace an unexpected bad value with an empty string\n",
    "df.replace(to_replace={\"AR'sShownareinMultipleWireSizes,seeWeaveDescriptionfordetails.\": ''}, inplace=True)\n"
   ]
  },
  {
   "attachments": {},
   "cell_type": "markdown",
   "metadata": {},
   "source": [
    "### Clean Up Dates"
   ]
  },
  {
   "cell_type": "code",
   "execution_count": 5,
   "metadata": {},
   "outputs": [],
   "source": [
    "\n",
    "# Convert date columns to datetime format\n",
    "df['Date Uploaded'] = pd.to_datetime(df['Date Uploaded'], format=\"mixed\")\n",
    "df['Last Edited'] = pd.to_datetime(df['Last Edited'], format='mixed', dayfirst=True)\n"
   ]
  },
  {
   "attachments": {},
   "cell_type": "markdown",
   "metadata": {},
   "source": [
    "### Construct Article Values"
   ]
  },
  {
   "cell_type": "code",
   "execution_count": 6,
   "metadata": {},
   "outputs": [
    {
     "data": {
      "text/plain": [
       "{'Other Related Articles', 'Weave Tutorials'}"
      ]
     },
     "execution_count": 6,
     "metadata": {},
     "output_type": "execute_result"
    }
   ],
   "source": [
    "# Determine how many article types exist\n",
    "\n",
    "types = set()\n",
    "\n",
    "for i in df['Articles'].values:\n",
    "    if i:\n",
    "        types.update(i.keys())\n",
    "\n",
    "types\n",
    "\n"
   ]
  },
  {
   "cell_type": "code",
   "execution_count": 7,
   "metadata": {},
   "outputs": [],
   "source": [
    "\n",
    "# Write helper function that counts the number of articles\n",
    "def count_articles(d: dict) -> int:\n",
    "    if not d:\n",
    "        return 0\n",
    "    \n",
    "    out = 0\n",
    "    for key, value in d.items():\n",
    "        out += len(value)\n",
    "    return out\n",
    "\n",
    "\n",
    "# Write helper function that counts the number of tutorials\n",
    "def count_tutorials(d: dict) -> int:\n",
    "    if not d:\n",
    "        return 0\n",
    "    \n",
    "    return len(d.get('Weave Tutorials', list()))\n",
    "\n",
    "\n",
    "# Create a column that contains the number of articles the record has\n",
    "df['Num Articles'] = df['Articles'].apply(count_articles)\n",
    "\n",
    "# Create a column that contains the number tutorials the record has\n",
    "df['Num Tutorials'] = df['Articles'].apply(count_tutorials)\n",
    "\n",
    "# This does the same thing but is more complex\n",
    "# df['Articles'].apply(lambda d : len(d.get('Weave Tutorials', list())) if d else 0)\n"
   ]
  },
  {
   "attachments": {},
   "cell_type": "markdown",
   "metadata": {},
   "source": [
    "### Handle AR Values"
   ]
  },
  {
   "cell_type": "code",
   "execution_count": 8,
   "metadata": {},
   "outputs": [],
   "source": [
    "\n",
    "# Create a column denoting if the record has an AR value\n",
    "ideal_empty = (df['Ideal AR'] == '')\n",
    "min_empty = (df['Min AR'] == '')\n",
    "max_empty = (df['Max AR'] == '')\n",
    "\n",
    "df['Has AR Value'] = (~(ideal_empty & min_empty & max_empty))\n",
    "\n",
    "\n",
    "# Create a column denoting if the record has multiple AR values\n",
    "multi_ideal = df['Ideal AR'].str.contains('\\|')\n",
    "multi_min = df['Min AR'].str.contains('\\|')\n",
    "multi_max = df['Max AR'].str.contains('\\|')\n",
    "\n",
    "df['Has Multiple AR Values'] = (multi_ideal | multi_min | multi_max)\n"
   ]
  },
  {
   "attachments": {},
   "cell_type": "markdown",
   "metadata": {},
   "source": [
    "## Answer Questions And Create Graphs"
   ]
  },
  {
   "attachments": {},
   "cell_type": "markdown",
   "metadata": {},
   "source": [
    "### What Are The Most Common Aspect Ratios"
   ]
  },
  {
   "cell_type": "code",
   "execution_count": 11,
   "metadata": {},
   "outputs": [],
   "source": [
    "\n",
    "### No Restrictions\n",
    "\n",
    "### Single AR only\n",
    "\n",
    "### Has tutorials only\n",
    "\n",
    "### Single AR with tutorials only\n"
   ]
  },
  {
   "attachments": {},
   "cell_type": "markdown",
   "metadata": {},
   "source": [
    "### What Are The Most Popular Tags"
   ]
  },
  {
   "cell_type": "code",
   "execution_count": null,
   "metadata": {},
   "outputs": [],
   "source": [
    "\n",
    "### 10 most popular weaves\n",
    "\n",
    "### See if it may be possible to do this as a time series\n"
   ]
  },
  {
   "attachments": {},
   "cell_type": "markdown",
   "metadata": {},
   "source": [
    "### How Many Weaves Came Out Over Time"
   ]
  },
  {
   "cell_type": "code",
   "execution_count": null,
   "metadata": {},
   "outputs": [],
   "source": [
    "\n",
    "### Graph the number of weaves that came out over time.\n"
   ]
  }
 ],
 "metadata": {
  "kernelspec": {
   "display_name": ".venv",
   "language": "python",
   "name": "python3"
  },
  "language_info": {
   "codemirror_mode": {
    "name": "ipython",
    "version": 3
   },
   "file_extension": ".py",
   "mimetype": "text/x-python",
   "name": "python",
   "nbconvert_exporter": "python",
   "pygments_lexer": "ipython3",
   "version": "3.9.13"
  },
  "orig_nbformat": 4,
  "vscode": {
   "interpreter": {
    "hash": "cd1eb147e263fe86cfc4a17abdb5e1e40ad8fbdb4017fb6b66ff85f62d5dea51"
   }
  }
 },
 "nbformat": 4,
 "nbformat_minor": 2
}
